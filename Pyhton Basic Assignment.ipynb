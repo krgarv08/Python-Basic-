{
 "cells": [
  {
   "cell_type": "markdown",
   "id": "653cf38e-1d09-421a-ac4f-2bef980af643",
   "metadata": {},
   "source": [
    "## Theoretical Questions"
   ]
  },
  {
   "cell_type": "markdown",
   "id": "9da64e98-57b6-47ef-8478-f2f40b5ad723",
   "metadata": {},
   "source": [
    "### (1)What is Python, and why is it popular?"
   ]
  },
  {
   "cell_type": "markdown",
   "id": "1491b5de-1c69-4db8-9f82-8b5888de26bc",
   "metadata": {},
   "source": [
    "Python is a high-level, interpreted programming language known for its simplicity, readability, and versatility.It was created by Guido van Rossum and first released in 1991. Python emphasizes code readability using indentation and has a syntax that allows developers to express concepts in fewer lines of code than many other languages.\n",
    "\n",
    "It is popular because of several reasons such as:\n",
    "1)it is easy to use and learn\n",
    "2) it has huge libraries and community support is also present\n",
    "3) it can be run on different operating systems\n",
    "4) huge tech industry usecase\n",
    "5) used for web and software development, in data science and data analysis, and also in ML and AI.\n",
    "6)"
   ]
  },
  {
   "cell_type": "code",
   "execution_count": null,
   "id": "1eeb6cf1-d741-4e29-9e9e-b68c438b49d8",
   "metadata": {},
   "outputs": [],
   "source": []
  },
  {
   "cell_type": "markdown",
   "id": "7caa89c2-2978-4ed1-8d96-a66e3d2b80f2",
   "metadata": {},
   "source": [
    "### (2)What is an interpreter in Python?"
   ]
  },
  {
   "cell_type": "markdown",
   "id": "edd9b3eb-664f-43ac-ada9-4b6d3ce33923",
   "metadata": {},
   "source": [
    "An interpreter in Python is a program that reads and executes Python code line by line, converting it into machine-understandable instructions at runtime. Python executes code one statement at a time. Errors are caught as soon as they occur. No need to compile Python code before running it (unlike C or Java).\n",
    "\n",
    "\n",
    "\n",
    "Examples of python interpreter are:- \n",
    "CPython\n",
    "PyPy\n",
    "Jython \n",
    "IronPython"
   ]
  },
  {
   "cell_type": "code",
   "execution_count": null,
   "id": "c35deee9-5502-45b0-97b6-1feb5092db4e",
   "metadata": {},
   "outputs": [],
   "source": []
  },
  {
   "cell_type": "markdown",
   "id": "033b4fee-4d29-41b8-a4ee-c189c6c045e8",
   "metadata": {},
   "source": [
    "### (3) What are pre-defined keywords in Python?"
   ]
  },
  {
   "cell_type": "markdown",
   "id": "881e28c8-2402-4b62-8cd8-01047bea3c8d",
   "metadata": {},
   "source": [
    "Predefined keywords in the python are built in words that have a fixed meaning and perform a particular function in the pythopn programs.\n",
    "Keywords cannot be used for variable names and for other purpose.\n",
    "\n",
    "Some of the python keywords are \"is, print, import, for, while, in, alse, class, from, or, None, continue\" etc."
   ]
  },
  {
   "cell_type": "code",
   "execution_count": null,
   "id": "f2fa4df2-c6ad-4bda-a6fe-7dac6f5b85c6",
   "metadata": {},
   "outputs": [],
   "source": []
  },
  {
   "cell_type": "markdown",
   "id": "44341f32-4a25-4c3a-b6e8-fcdd27e0fed3",
   "metadata": {},
   "source": [
    "### (4)Can keywords be used as variable names?"
   ]
  },
  {
   "cell_type": "markdown",
   "id": "adfec464-c825-4b2c-965a-94f336af30cb",
   "metadata": {},
   "source": [
    "No keywords cant be used for variable names because they are reserved for a particular purpose and perform particular function. Hence using keywords for variable names will cause an error\n"
   ]
  },
  {
   "cell_type": "code",
   "execution_count": null,
   "id": "8420c440-51b4-4067-b0d3-461c8fb48f72",
   "metadata": {},
   "outputs": [],
   "source": []
  },
  {
   "cell_type": "markdown",
   "id": "dc042ea9-c818-4223-9dfd-a09e2520e864",
   "metadata": {},
   "source": [
    "### (5)What is mutability in Python?"
   ]
  },
  {
   "cell_type": "markdown",
   "id": "ad1705f0-ef6d-4fd8-8b1c-c9ec66f2b1e6",
   "metadata": {},
   "source": [
    "Mutability in python means whether the contents or items of an object can be changed or not.\n",
    "If the content of it can be changed then it is a mutable object such as items of \"list, dictionary, set\" can be changed.\n",
    "While the content of \"strings, tuples, integers, boolean etc. cant be changed hence these are immutable objects. "
   ]
  },
  {
   "cell_type": "code",
   "execution_count": null,
   "id": "4c3e7eea-0bd9-4009-b18c-07fa7f5fb788",
   "metadata": {},
   "outputs": [],
   "source": []
  },
  {
   "cell_type": "markdown",
   "id": "371d6b7c-b91c-413f-be03-bb3cada0de5f",
   "metadata": {},
   "source": [
    "### (6)Why are lists mutable, but tuples are immutable?"
   ]
  },
  {
   "cell_type": "markdown",
   "id": "94a9cc80-64a6-4a60-8e18-b428dd0ff453",
   "metadata": {},
   "source": [
    "Lists are for dynamic sequences:\n",
    "one may often need to add, remove, or change elements during program execution.\n",
    "Therefore, lists are mutable to allow this flexibility.\n",
    "one can ap\n",
    "\n",
    "Tuples are for fixed collections:\n",
    "one may often used to group related but fixed data.\n",
    "Immutability ensures consistency: once a tuple is created, it won’t change accidentally\n",
    "It also helps in daata integrity and hashability"
   ]
  },
  {
   "cell_type": "code",
   "execution_count": null,
   "id": "cca63a90-22a0-48cd-850b-150da425ef2c",
   "metadata": {},
   "outputs": [],
   "source": []
  },
  {
   "cell_type": "markdown",
   "id": "b98ee16f-246a-49d2-a9d8-9e89cbf23d0e",
   "metadata": {},
   "source": [
    "### (7)What is the difference between “==” and “is” operators in Python?"
   ]
  },
  {
   "cell_type": "markdown",
   "id": "776f0e18-4f86-4fca-a4d9-97aaf416b177",
   "metadata": {},
   "source": [
    "\"==\" checks for equality in of the value.\n",
    "eg. 5 == 5  (True)\n",
    "while \"is\" checks for the identity wheteer it is pointing to the same memory block.\n",
    "a = [1, 2, 3]\n",
    "b = [1, 2, 3]\n",
    "c = a\n",
    "\n",
    "print(a == b)---> it will return true because the value is same.   \n",
    "print(a is b)---> it will return false even it appears to be same but they are stored in diffferent memory bolck and when checked they will point to differnt memory location and hence it eill return false.\n",
    "\n",
    "print(a == c)----> it will return true as value will be checjed and the value is same.\n",
    "print(a is c)----> it will also retuen true as they are pointing to the same objent in memory.\n"
   ]
  },
  {
   "cell_type": "code",
   "execution_count": null,
   "id": "e425efe2-9517-40d2-b7f9-16a2f6a8e9f1",
   "metadata": {},
   "outputs": [],
   "source": []
  },
  {
   "cell_type": "markdown",
   "id": "51af95f3-2f72-42ab-9ce3-07eefd066a92",
   "metadata": {},
   "source": [
    "### (8) What are logical operators in Python?"
   ]
  },
  {
   "cell_type": "markdown",
   "id": "1ce1ea07-c159-4f6a-9ff6-8bba2d03b82b",
   "metadata": {},
   "source": [
    "Logical operators in Python are used to combine or evaluate boolean expressions (expressions that result in True or False).\n",
    "\n",
    "The 3 Logical Operators are:-\n",
    "\n",
    "\"and\"---Logical AND------\tTrue and False will give \"False\"\n",
    "\"or\"----Logical OR ------\tTrue or False will give\t\"True\"\n",
    "\"not\"---Logical NOT\t-----   not True will give \"False\"\n"
   ]
  },
  {
   "cell_type": "code",
   "execution_count": 29,
   "id": "c7a99e7e-93ff-4803-906d-454c7c81c58f",
   "metadata": {},
   "outputs": [
    {
     "name": "stdout",
     "output_type": "stream",
     "text": [
      "True\n",
      "True\n"
     ]
    }
   ],
   "source": [
    "a=10\n",
    "print(a>7 and a<20)\n",
    "print(a>6 or a< 15)"
   ]
  },
  {
   "cell_type": "code",
   "execution_count": 30,
   "id": "c2268cc0-718b-4938-8d37-c73bdcd7d082",
   "metadata": {},
   "outputs": [
    {
     "name": "stdout",
     "output_type": "stream",
     "text": [
      "True\n"
     ]
    }
   ],
   "source": [
    "b= False\n",
    "print(not b)"
   ]
  },
  {
   "cell_type": "code",
   "execution_count": null,
   "id": "ccf8cc7d-b19f-4cce-bb5b-d5d1369c10fa",
   "metadata": {},
   "outputs": [],
   "source": []
  },
  {
   "cell_type": "markdown",
   "id": "6d5627b6-b664-4589-98dd-eb9dc2d63a46",
   "metadata": {},
   "source": [
    "### (9)What is type casting in Python?"
   ]
  },
  {
   "cell_type": "markdown",
   "id": "05ee0627-3f7c-4755-9734-47a2a1e517ed",
   "metadata": {},
   "source": [
    "Type casting in Python means converting the value of one data type into another—like turning a string into an integer, a float into a string, and so on.\n",
    "it helps in:-\n",
    "1)ensuring data types match\n",
    "2)performing operations that require a specific type\n",
    "3)formatting or preparing data for output or processing.\n",
    "\n",
    "There are two types of typecasting:\n",
    "implicit:- done by python itself\\\n",
    "#inpuft function accepts value as string on its own\n",
    "\n",
    "explicit:- done manually\n",
    "a=5\n",
    "b=float(a)\n",
    "it will return 5.0"
   ]
  },
  {
   "cell_type": "code",
   "execution_count": null,
   "id": "5e85ed6f-730f-47c4-9ba3-7f33bdc555e2",
   "metadata": {},
   "outputs": [],
   "source": []
  },
  {
   "cell_type": "markdown",
   "id": "13b14401-3427-4bf7-81f8-ec628af2c581",
   "metadata": {},
   "source": [
    "### (10)What is the difference between implicit and explicit type casting? "
   ]
  },
  {
   "cell_type": "markdown",
   "id": "d24f5334-f09d-4d0c-9d6a-720d8debe1ca",
   "metadata": {},
   "source": [
    "implicit:- done by python itself\n",
    "we do not have much control over it\n",
    "it happens during operations that involve mixed types\n",
    "\n",
    "#inpuft function accepts value as string on its own\n",
    "x=5\n",
    "y=4.0\n",
    "x+y ------> automatically change it as float value\n",
    "\n",
    "**************************************************************************\n",
    "explicit:- done manually\n",
    "we have full control on what to castt and what not\n",
    "\n",
    "a=5\n",
    "b=float(a)\n",
    "it will return 5.0"
   ]
  },
  {
   "cell_type": "code",
   "execution_count": null,
   "id": "2eaae6f7-deb4-43c3-8346-d3afc2db3843",
   "metadata": {},
   "outputs": [],
   "source": []
  },
  {
   "cell_type": "markdown",
   "id": "9667c79e-8293-4bad-bcf4-f3e6842c8046",
   "metadata": {},
   "source": [
    "### (11)What is the purpose of conditional statements in Python?"
   ]
  },
  {
   "cell_type": "markdown",
   "id": "fcf78db8-58da-4bee-8b74-16682a38c29b",
   "metadata": {},
   "source": [
    "Conditional statements in Python are used to make decisions in your code. They allow your program to execute different blocks of code depending on whether a condition is True or False.\n",
    "\n",
    "It is used to check the statements and conditions and make decisions based on user input, calculated values, or external data.\n",
    "also used to perform different actions depending on the situation.\n",
    "\n",
    "\n",
    "\"if\"------->Executes a block if the condition is True\n",
    "\"elif\"------->Adds more conditions \n",
    "\"else\"------->Executes if no conditions satisfy\n",
    "\n",
    "example:-"
   ]
  },
  {
   "cell_type": "code",
   "execution_count": null,
   "id": "a1fefacc-ff88-4b75-a4d0-e1c5f9448aec",
   "metadata": {},
   "outputs": [],
   "source": [
    "a=int(input(\"enter heading strength(out of 100):-\"))\n",
    "b=int(input(\"enter your kicking strength(out of 100)\"))\n",
    "c=input(\"ever played football(yes/no)\")\n",
    "c.lower()\n",
    "if not c=='no':\n",
    "    if a>90 and b>90:\n",
    "        print(\"You will be our team captain\")\n",
    "    elif a>50 and a<=90 or b>50 and b<=90:\n",
    "        print(\"apply for trial\")\n",
    "    elif a<=50 or b<=50:\n",
    "        print(\"not eligible for trial\")\n",
    "    else:\n",
    "        print(\"play some other game\")\n",
    "else:\n",
    "    print(\"You do not meet our eligibility criteria.\")"
   ]
  },
  {
   "cell_type": "code",
   "execution_count": null,
   "id": "6ce8bf14-3747-4696-9528-df3dc55804ae",
   "metadata": {},
   "outputs": [],
   "source": []
  },
  {
   "cell_type": "markdown",
   "id": "f8ae3276-de9e-41d6-994a-6fc13af80748",
   "metadata": {},
   "source": [
    "### (12)How does the elif statement work?"
   ]
  },
  {
   "cell_type": "markdown",
   "id": "70dc05f2-f058-4e0e-bb4e-fd32597df30b",
   "metadata": {},
   "source": [
    "\"elif\" that is \"else if\" works to check only if the conditons in the \"if\" block do not satisfy.\n",
    "\n",
    "\n",
    "Python checks conditions in order:\n",
    "First if ------>if True, it runs and skips the rest.\n",
    "If False-----> it checks each elif in order.\n",
    "If no conditions are True, it runs the else block.\n",
    "\n",
    "\n",
    "example:-\n",
    "age=19\n",
    "if age<=18:\n",
    "    print(\"ride bicycle\")\n",
    "elif age>18 and age<=35:\n",
    "    print(\"ride bike\")\n",
    "elif age>35:\n",
    "    print(\"drive car\")\n",
    "else:\n",
    "    print(\"not eligible\")"
   ]
  },
  {
   "cell_type": "code",
   "execution_count": null,
   "id": "53e78cee-81e7-42d8-95be-924325142fd5",
   "metadata": {},
   "outputs": [],
   "source": []
  },
  {
   "cell_type": "markdown",
   "id": "acd5b135-9779-4809-9be6-4dcb7682fe07",
   "metadata": {},
   "source": [
    "### (13)What is the difference between for and while loops?"
   ]
  },
  {
   "cell_type": "markdown",
   "id": "8a730648-672a-415d-84ad-453a6a9145d5",
   "metadata": {},
   "source": [
    "\"for\" loop is used when the number of iterations is known or countable and \"while\" loop is used When one wants to loop until a condition is False\n",
    "\n",
    "\"for\" loop iterates over a sequence while \"while\" loop repeats based on a condition.\n",
    "for loop is best for fixed loops or iterations while \"while\" loop is best when we want to checkj the conditions for indefinite no.of times"
   ]
  },
  {
   "cell_type": "code",
   "execution_count": null,
   "id": "f5ca15e1-bd7e-4506-be40-69d54af91aac",
   "metadata": {},
   "outputs": [],
   "source": []
  },
  {
   "cell_type": "markdown",
   "id": "e4a76e2e-8e00-4a44-8c12-585bc02b027b",
   "metadata": {},
   "source": [
    "### (14) Describe a scenario where a while loop is more suitable than a for loop."
   ]
  },
  {
   "cell_type": "markdown",
   "id": "46313a25-2f55-4151-af27-ef2e689d6083",
   "metadata": {},
   "source": [
    "It can be used when one wants a positive number from the user and checks the value entered by the user indefinite number of times if it is positive of not and since it may require unknown number of times for the validation hence using for loop will not be feasible that is why\n",
    "while loop is better because the loop continues until a condition is met (user enters a positive number) and since we don’t know how many tries the user will need. hence it is based on input validation and not a fixed count."
   ]
  },
  {
   "cell_type": "code",
   "execution_count": null,
   "id": "5eaa5443-d5d8-4074-92cf-a60b56612f60",
   "metadata": {},
   "outputs": [],
   "source": []
  },
  {
   "cell_type": "code",
   "execution_count": null,
   "id": "af075d52-040b-41f7-8290-de7577123cf6",
   "metadata": {},
   "outputs": [],
   "source": []
  },
  {
   "cell_type": "markdown",
   "id": "1ec4806b-91ff-4130-8796-dd1622649bae",
   "metadata": {},
   "source": [
    "## Practical Questions"
   ]
  },
  {
   "cell_type": "markdown",
   "id": "49fcea1b-dae2-439b-a3df-16e7c7f45d7d",
   "metadata": {},
   "source": [
    "### (1) Write a Python program to print \"Hello, World!\""
   ]
  },
  {
   "cell_type": "code",
   "execution_count": 26,
   "id": "24f0478f-6b47-4a3f-8505-06e20901255a",
   "metadata": {},
   "outputs": [
    {
     "name": "stdout",
     "output_type": "stream",
     "text": [
      "Hello, World!\n"
     ]
    }
   ],
   "source": [
    "print(\"Hello, World!\")"
   ]
  },
  {
   "cell_type": "code",
   "execution_count": null,
   "id": "c47bfe0f-69cc-4a20-8cff-e25a36d263e0",
   "metadata": {},
   "outputs": [],
   "source": []
  },
  {
   "cell_type": "code",
   "execution_count": null,
   "id": "37f5465c-839c-4b88-a81d-798aa8255c65",
   "metadata": {},
   "outputs": [],
   "source": []
  },
  {
   "cell_type": "markdown",
   "id": "a6edafc8-a0c4-49d1-8602-eed338339fd1",
   "metadata": {},
   "source": [
    "### (2)Write a Python program that displays your name and age."
   ]
  },
  {
   "cell_type": "code",
   "execution_count": 24,
   "id": "a79f01c9-628d-4d9c-9800-67fcb25e8cde",
   "metadata": {},
   "outputs": [
    {
     "name": "stdout",
     "output_type": "stream",
     "text": [
      "Hey!! My name is Gaurav Kumar \n",
      "age- 21\n"
     ]
    }
   ],
   "source": [
    "name= \"Gaurav Kumar\"\n",
    "age= 21\n",
    "print( \"Hey!! My name is\",name, \"\\nage-\",age)"
   ]
  },
  {
   "cell_type": "code",
   "execution_count": null,
   "id": "6976a2ff-bdca-41d1-b2cb-ae1d393a0ccf",
   "metadata": {},
   "outputs": [],
   "source": []
  },
  {
   "cell_type": "code",
   "execution_count": null,
   "id": "ec228fe0-005c-4dea-a1e3-7b410a5b61d3",
   "metadata": {},
   "outputs": [],
   "source": []
  },
  {
   "cell_type": "markdown",
   "id": "84224af5-d8cf-4ff7-9f2d-848efe6bbe16",
   "metadata": {},
   "source": [
    "### (3) Write code to print all the pre-defined keywords in Python using the keyword library"
   ]
  },
  {
   "cell_type": "code",
   "execution_count": 22,
   "id": "627372d0-f1d2-43a4-b42c-ff98daf9a77f",
   "metadata": {},
   "outputs": [
    {
     "name": "stdout",
     "output_type": "stream",
     "text": [
      "\n",
      "Here is a list of the Python keywords.  Enter any keyword to get more help.\n",
      "\n",
      "False               class               from                or\n",
      "None                continue            global              pass\n",
      "True                def                 if                  raise\n",
      "and                 del                 import              return\n",
      "as                  elif                in                  try\n",
      "assert              else                is                  while\n",
      "async               except              lambda              with\n",
      "await               finally             nonlocal            yield\n",
      "break               for                 not                 \n",
      "\n",
      "None\n"
     ]
    }
   ],
   "source": [
    "help('keywords')"
   ]
  },
  {
   "cell_type": "code",
   "execution_count": null,
   "id": "cc1c2916-03a5-4a6c-b337-c9c2854e1dfb",
   "metadata": {},
   "outputs": [],
   "source": []
  },
  {
   "cell_type": "code",
   "execution_count": null,
   "id": "f03e182d-3f5f-4b9c-89f0-74ce8ba2fa9c",
   "metadata": {},
   "outputs": [],
   "source": []
  },
  {
   "cell_type": "markdown",
   "id": "85c69d3e-f152-46d3-9062-d585b8f6e0c7",
   "metadata": {},
   "source": [
    "### (4) Write a program that checks if a given word is a Python keyword."
   ]
  },
  {
   "cell_type": "code",
   "execution_count": 26,
   "id": "f72f019b-d068-4e8b-90ff-1bb88e46f81c",
   "metadata": {},
   "outputs": [
    {
     "name": "stdin",
     "output_type": "stream",
     "text": [
      "enter the word that you want to check:- or\n"
     ]
    },
    {
     "name": "stdout",
     "output_type": "stream",
     "text": [
      "It's a keyword\n"
     ]
    }
   ],
   "source": [
    "a= input(\"enter the word that you want to check:-\")\n",
    "if keyword.iskeyword(a) == True:\n",
    "    print(\"It's a keyword\")\n",
    "else:\n",
    "    print(\"It's not a keyword!!\")"
   ]
  },
  {
   "cell_type": "code",
   "execution_count": null,
   "id": "49219ce9-6910-4f02-99c7-40d51fbd7585",
   "metadata": {},
   "outputs": [],
   "source": []
  },
  {
   "cell_type": "code",
   "execution_count": null,
   "id": "c7785b49-b3a2-4ac0-b699-39411215d742",
   "metadata": {},
   "outputs": [],
   "source": []
  },
  {
   "cell_type": "markdown",
   "id": "e0794004-9440-4315-a898-22b9762f4260",
   "metadata": {},
   "source": [
    "### (5) Create a list and tuple in Python, and demonstrate how attempting to change an element works differently for each."
   ]
  },
  {
   "cell_type": "code",
   "execution_count": 11,
   "id": "af298416-b53c-4e9e-b0f9-abef4bd05ea2",
   "metadata": {},
   "outputs": [],
   "source": [
    "list1=[12,\"ram\", 43.5, 343, True]\n",
    "list1[2]=999"
   ]
  },
  {
   "cell_type": "code",
   "execution_count": 12,
   "id": "6890760d-a536-4a90-b2f7-53ab55dde4a1",
   "metadata": {},
   "outputs": [
    {
     "data": {
      "text/plain": [
       "[12, 'ram', 999, 343, True]"
      ]
     },
     "execution_count": 12,
     "metadata": {},
     "output_type": "execute_result"
    }
   ],
   "source": [
    "list1 \n",
    "#List supports itme assignment "
   ]
  },
  {
   "cell_type": "code",
   "execution_count": 14,
   "id": "9158cede-3de2-4285-8614-47e984dfa552",
   "metadata": {},
   "outputs": [
    {
     "ename": "TypeError",
     "evalue": "'tuple' object does not support item assignment",
     "output_type": "error",
     "traceback": [
      "\u001b[31m---------------------------------------------------------------------------\u001b[39m",
      "\u001b[31mTypeError\u001b[39m                                 Traceback (most recent call last)",
      "\u001b[36mCell\u001b[39m\u001b[36m \u001b[39m\u001b[32mIn[14]\u001b[39m\u001b[32m, line 2\u001b[39m\n\u001b[32m      1\u001b[39m tuple1=(\u001b[32m12\u001b[39m, \u001b[33m\"\u001b[39m\u001b[33mram\u001b[39m\u001b[33m\"\u001b[39m, \u001b[32m43.5\u001b[39m, \u001b[32m343\u001b[39m, \u001b[38;5;28;01mTrue\u001b[39;00m)\n\u001b[32m----> \u001b[39m\u001b[32m2\u001b[39m \u001b[43mtuple1\u001b[49m\u001b[43m[\u001b[49m\u001b[32;43m1\u001b[39;49m\u001b[43m]\u001b[49m= \u001b[32m333\u001b[39m       \u001b[38;5;66;03m#tuples are immutable hence it will throw an error while list is mutable and can change the list items.\u001b[39;00m\n",
      "\u001b[31mTypeError\u001b[39m: 'tuple' object does not support item assignment"
     ]
    }
   ],
   "source": [
    "tuple1=(12, \"ram\", 43.5, 343, True)\n",
    "tuple1[1]= 333\n",
    "#tuples are immutable hence it will throw an error while list is mutable and can change the list items."
   ]
  },
  {
   "cell_type": "markdown",
   "id": "c2042eee-e9b5-40cc-a5a4-a142f610b735",
   "metadata": {},
   "source": [
    " ### 6. Write a function to demonstrate the behavior of mutable and immutable arguments.\n",
    " "
   ]
  },
  {
   "cell_type": "code",
   "execution_count": 23,
   "id": "b33cfec9-85c2-419c-9169-097e144ecbfa",
   "metadata": {},
   "outputs": [
    {
     "name": "stdout",
     "output_type": "stream",
     "text": [
      "Before function call:\n",
      "  Immutable: 10\n",
      "  Mutable: [34, 35, 345, 546, 765, 23]\n",
      "\n",
      "Inside function before modification:\n",
      "  Immutable: 10\n",
      "  Mutable: [34, 35, 345, 546, 765, 23]\n",
      "Inside function after modification:\n",
      "  Immutable: 11\n",
      "  Mutable: [34, 35, 345, 546, 765, 23, 'pwskills assignment']\n",
      "\n",
      "After function call:\n",
      "  Immutable: 10\n",
      "  Mutable: [34, 35, 345, 546, 765, 23, 'pwskills assignment']\n"
     ]
    }
   ],
   "source": [
    "def demonstrate_mutable_immutable(immutable_arg, mutable_arg):\n",
    "    print(\"\\nInside function before modification:\")\n",
    "    print(\"  Immutable:\", immutable_arg)\n",
    "    print(\"  Mutable:\", mutable_arg)\n",
    "\n",
    "    immutable_arg += 1\n",
    "    \n",
    "    mutable_arg.append(\"pwskills assignment\")\n",
    "\n",
    "    print(\"Inside function after modification:\")\n",
    "    print(\"  Immutable:\", immutable_arg)\n",
    "    print(\"  Mutable:\", mutable_arg)\n",
    "\n",
    "immutable_var = 10\n",
    "mutable_var = [34,35,345,546,765,23]\n",
    "\n",
    "print(\"Before function call:\")\n",
    "print(\"  Immutable:\", immutable_var)\n",
    "print(\"  Mutable:\", mutable_var)\n",
    "\n",
    "demonstrate_mutable_immutable(immutable_var, mutable_var)\n",
    "\n",
    "print(\"\\nAfter function call:\")\n",
    "print(\"  Immutable:\", immutable_var) \n",
    "print(\"  Mutable:\", mutable_var) \n",
    "\n"
   ]
  },
  {
   "cell_type": "code",
   "execution_count": null,
   "id": "548c06b5-3fdf-4db1-a869-f1ac4b0b388a",
   "metadata": {},
   "outputs": [],
   "source": []
  },
  {
   "cell_type": "code",
   "execution_count": null,
   "id": "f3a958f0-1cbe-4425-a8b6-d02934125968",
   "metadata": {},
   "outputs": [],
   "source": []
  },
  {
   "cell_type": "markdown",
   "id": "ed8dab92-ca18-424a-9e77-178a42a53858",
   "metadata": {},
   "source": [
    "### 7. Write a program that performs basic arithmetic operations on two user-input numbers.\n"
   ]
  },
  {
   "cell_type": "code",
   "execution_count": 33,
   "id": "a9d547c7-c2b8-4201-b2bb-1dca1e10e25f",
   "metadata": {},
   "outputs": [
    {
     "name": "stdin",
     "output_type": "stream",
     "text": [
      "enter 1st no.:- 54\n",
      "enter 2nd no.:- 45\n"
     ]
    },
    {
     "name": "stdout",
     "output_type": "stream",
     "text": [
      "sum= 99 subtraction= 9 product= 2430 division= 1.2 remainder= 9\n"
     ]
    }
   ],
   "source": [
    "a=int(input(\"enter 1st no.:-\"))\n",
    "b=int(input(\"enter 2nd no.:-\"))\n",
    "p= a+b\n",
    "q= a-b\n",
    "r= a*b\n",
    "s= a/b\n",
    "t= a%b\n",
    "print(\"sum=\", p, \"subtraction=\", q,\"product=\", r,\"division=\", s,\"remainder=\",t)"
   ]
  },
  {
   "cell_type": "code",
   "execution_count": 27,
   "id": "963853af-ec58-40f7-9a82-8b08eb6734d9",
   "metadata": {},
   "outputs": [
    {
     "name": "stdin",
     "output_type": "stream",
     "text": [
      "enter 1st no.:- 23\n",
      "enter 2nd no.:- 43\n",
      "enter the operator(+,-,*,/,%):- +\n"
     ]
    },
    {
     "name": "stdout",
     "output_type": "stream",
     "text": [
      "sum= 66\n"
     ]
    }
   ],
   "source": [
    "a=int(input(\"enter 1st no.:-\"))\n",
    "b=int(input(\"enter 2nd no.:-\"))\n",
    "operator= input(\"enter the operator(+,-,*,/,%):-\")\n",
    "if operator == \"+\":\n",
    "    print(\"sum=\",a+b)\n",
    "elif operator == \"-\":\n",
    "    print(\"subtraction=\", a-b)\n",
    "elif operator == \"*\":\n",
    "    print(\"product=\",a*b)\n",
    "elif operator == \"/\":\n",
    "    print(\"division=\",a/b)\n",
    "elif operator == \"%\":\n",
    "    print(\"remainder=\",a%b )\n",
    "else:\n",
    "    print(\"invalid operator\")\n"
   ]
  },
  {
   "cell_type": "code",
   "execution_count": null,
   "id": "ebf9834c-342d-4562-b7f1-1a848539b8a4",
   "metadata": {},
   "outputs": [],
   "source": []
  },
  {
   "cell_type": "markdown",
   "id": "e46439d6-a472-4d82-87fa-12dee06f83bc",
   "metadata": {},
   "source": [
    " ### 8. Write a program to demonstrate the use of logical operators.\n"
   ]
  },
  {
   "cell_type": "code",
   "execution_count": 18,
   "id": "63afb0a8-6046-4fb0-ae4c-2ceabd833963",
   "metadata": {},
   "outputs": [
    {
     "name": "stdin",
     "output_type": "stream",
     "text": [
      "enter heading strength(out of 100):- 45\n",
      "enter your kicking strength(out of 100) 45\n",
      "ever played football(yes/no) yes\n"
     ]
    },
    {
     "name": "stdout",
     "output_type": "stream",
     "text": [
      "not eligible for trial\n"
     ]
    }
   ],
   "source": [
    "a=int(input(\"enter heading strength(out of 100):-\"))\n",
    "b=int(input(\"enter your kicking strength(out of 100)\"))\n",
    "c=input(\"ever played football(yes/no)\")\n",
    "c.lower()\n",
    "if not c=='no':\n",
    "    if a>90 and b>90:\n",
    "        print(\"You will be our team captain\")\n",
    "    elif a>50 and a<=90 or b>50 and b<=90:\n",
    "        print(\"apply for trial\")\n",
    "    elif a<=50 or b<=50:\n",
    "        print(\"not eligible for trial\")\n",
    "    else:\n",
    "        print(\"play some other game\")\n",
    "else:\n",
    "    print(\"You do not meet our eligibility criteria.\")\n"
   ]
  },
  {
   "cell_type": "code",
   "execution_count": null,
   "id": "27b82a99-9cbf-48f4-ba5c-c8f10a1d72c6",
   "metadata": {},
   "outputs": [],
   "source": []
  },
  {
   "cell_type": "code",
   "execution_count": null,
   "id": "5f1fde6b-64ad-4436-bb9c-9a540dc64cf1",
   "metadata": {},
   "outputs": [],
   "source": []
  },
  {
   "cell_type": "markdown",
   "id": "fd1a02d2-b696-4116-9fa8-72504a401529",
   "metadata": {},
   "source": [
    " ### 9. Write a Python program to convert user input from string to integer, float, and boolean types.\n",
    " "
   ]
  },
  {
   "cell_type": "code",
   "execution_count": 3,
   "id": "2f813e33-4caa-4237-8f8d-580c204cb986",
   "metadata": {
    "scrolled": true
   },
   "outputs": [
    {
     "name": "stdin",
     "output_type": "stream",
     "text": [
      "enter a no.:- 54\n"
     ]
    },
    {
     "name": "stdout",
     "output_type": "stream",
     "text": [
      "integer: 54 , float: 54.0 , boolean: True\n"
     ]
    }
   ],
   "source": [
    "a=(input(\"enter a no.:-\"))\n",
    "print(\"integer:\", int(a), \", float:\", float(a), \", boolean:\", bool(a))"
   ]
  },
  {
   "cell_type": "code",
   "execution_count": 38,
   "id": "836979cc-455b-4333-8fae-4fddc360c820",
   "metadata": {
    "scrolled": true
   },
   "outputs": [
    {
     "name": "stdin",
     "output_type": "stream",
     "text": [
      "enter a no.:- 0\n"
     ]
    },
    {
     "name": "stdout",
     "output_type": "stream",
     "text": [
      "integer: 0 float: 0.0 boolean: False\n"
     ]
    }
   ],
   "source": [
    "a=int(input(\"enter a no.:-\"))\n",
    "print(\"integer:\", int(a), \"float:\", float(a), \"boolean:\", bool(a))"
   ]
  },
  {
   "cell_type": "code",
   "execution_count": null,
   "id": "60fb03dd-178d-4649-b9f2-192c2a7e3ad7",
   "metadata": {},
   "outputs": [],
   "source": []
  },
  {
   "cell_type": "markdown",
   "id": "08c05999-251a-446e-bedc-deaa65465d26",
   "metadata": {},
   "source": [
    "### 10. Write code to demonstrate type casting with list elements.\n",
    " "
   ]
  },
  {
   "cell_type": "code",
   "execution_count": 25,
   "id": "cd0bc24e-16c4-47a6-8fe1-cde81a8a88de",
   "metadata": {},
   "outputs": [
    {
     "name": "stdout",
     "output_type": "stream",
     "text": [
      "Original strings: ['1', '2', '3', '4', '5']\n",
      "As integers: [1, 2, 3, 4, 5]\n",
      "As floats: [1.0, 2.0, 3.0, 4.0, 5.0]\n",
      "Back to strings: ['1', '2', '3', '4', '5']\n"
     ]
    }
   ],
   "source": [
    "list_1= ['1', '2', '3', '4', '5']\n",
    "\n",
    "int_numbers = [int(num) for num in list_1]\n",
    "\n",
    "float_numbers = [float(num) for num in int_numbers]\n",
    "\n",
    "str_numbers = [str(num) for num in int_numbers]\n",
    "\n",
    "\n",
    "print(\"Original strings:\", list_1)\n",
    "print(\"As integers:\", int_numbers)\n",
    "print(\"As floats:\", float_numbers)\n",
    "print(\"Back to strings:\",list_1 )\n"
   ]
  },
  {
   "cell_type": "code",
   "execution_count": null,
   "id": "85001f8d-e5d5-49ea-bd81-9be6b940b10b",
   "metadata": {},
   "outputs": [],
   "source": []
  },
  {
   "cell_type": "code",
   "execution_count": null,
   "id": "6e53f958-785e-455c-9d47-6337deeae522",
   "metadata": {},
   "outputs": [],
   "source": []
  },
  {
   "cell_type": "markdown",
   "id": "a688ad9a-dc54-4c6e-b27f-da58f0703420",
   "metadata": {},
   "source": [
    "### 11. Write a program that checks if a number is positive, negative, or zero.\n",
    " "
   ]
  },
  {
   "cell_type": "code",
   "execution_count": 42,
   "id": "5639638f-cc93-4190-af4d-2b369c6616ad",
   "metadata": {},
   "outputs": [
    {
     "name": "stdin",
     "output_type": "stream",
     "text": [
      "enter a no.:- 0\n"
     ]
    },
    {
     "name": "stdout",
     "output_type": "stream",
     "text": [
      "It is ZERO!!!\n"
     ]
    }
   ],
   "source": [
    "a=int(input(\"enter a no.:-\"))\n",
    "if a>0:\n",
    "    print(\"It is a positive number.\")\n",
    "elif a<0:\n",
    "    print(\"It is a negtive number.\")\n",
    "else:\n",
    "    print(\"It is ZERO!!!\")"
   ]
  },
  {
   "cell_type": "code",
   "execution_count": null,
   "id": "bd4df397-fdd1-47d3-8223-be859f818ded",
   "metadata": {},
   "outputs": [],
   "source": []
  },
  {
   "cell_type": "code",
   "execution_count": null,
   "id": "d73a59c8-b6ad-453f-920a-c72468917889",
   "metadata": {},
   "outputs": [],
   "source": []
  },
  {
   "cell_type": "markdown",
   "id": "0a0895b3-5676-4a9b-818a-09984c7f7ec3",
   "metadata": {},
   "source": [
    "### 12. Write a for loop to print numbers from 1 to 10.\n",
    " "
   ]
  },
  {
   "cell_type": "code",
   "execution_count": 1,
   "id": "5a15aad1-2119-48bc-bd80-d2c364f39149",
   "metadata": {},
   "outputs": [
    {
     "name": "stdout",
     "output_type": "stream",
     "text": [
      "1\n",
      "2\n",
      "3\n",
      "4\n",
      "5\n",
      "6\n",
      "7\n",
      "8\n",
      "9\n",
      "10\n"
     ]
    }
   ],
   "source": [
    "for i in range(1,11):\n",
    "    print(i)\n",
    "    i+=1"
   ]
  },
  {
   "cell_type": "code",
   "execution_count": null,
   "id": "d7382985-2b3c-4322-9be3-f666d29910d8",
   "metadata": {},
   "outputs": [],
   "source": []
  },
  {
   "cell_type": "code",
   "execution_count": null,
   "id": "8b94d53c-a943-4799-944f-8b3c12d8ae8e",
   "metadata": {},
   "outputs": [],
   "source": []
  },
  {
   "cell_type": "markdown",
   "id": "96728426-41bb-4084-bf43-8860e34632b4",
   "metadata": {},
   "source": [
    "### 13. Write a Python program to find the sum of all even numbers between 1 and 50.\n",
    " "
   ]
  },
  {
   "cell_type": "code",
   "execution_count": null,
   "id": "f87217ae-4b47-4f8f-b97b-103121a7492d",
   "metadata": {},
   "outputs": [],
   "source": [
    "i=2\n",
    "while i<=50:\n",
    "    if i%2==0:\n",
    "        print(i)\n",
    "    else:\n",
    "        i+=1\n",
    "    "
   ]
  },
  {
   "cell_type": "code",
   "execution_count": null,
   "id": "989944d3-464b-4cfa-a448-970ef87cdf38",
   "metadata": {},
   "outputs": [],
   "source": [
    "\n"
   ]
  },
  {
   "cell_type": "code",
   "execution_count": null,
   "id": "5ef0294c-da59-419e-a999-151613b50243",
   "metadata": {},
   "outputs": [],
   "source": []
  },
  {
   "cell_type": "markdown",
   "id": "aa149df1-f100-415a-8a45-685ccc1f2e8e",
   "metadata": {},
   "source": [
    "### 14. Write a program to reverse a string using a while loop.\n",
    " "
   ]
  },
  {
   "cell_type": "code",
   "execution_count": 4,
   "id": "c85a8442-1e12-45a9-b452-5afc8c13dbf0",
   "metadata": {},
   "outputs": [
    {
     "name": "stdin",
     "output_type": "stream",
     "text": [
      "enter a something:- Assignment1\n"
     ]
    },
    {
     "name": "stdout",
     "output_type": "stream",
     "text": [
      "1\n",
      "t\n",
      "n\n",
      "e\n",
      "m\n",
      "n\n",
      "g\n",
      "i\n",
      "s\n",
      "s\n",
      "A\n"
     ]
    }
   ],
   "source": [
    "a=input(\"enter a something:-\")\n",
    "l=len(a)\n",
    "i=-1\n",
    "while i>= -l:\n",
    "    print(a[i])\n",
    "    i-=1\n"
   ]
  },
  {
   "cell_type": "code",
   "execution_count": null,
   "id": "eb27bcd4-d1d6-4825-a7f0-81a1cb041250",
   "metadata": {},
   "outputs": [],
   "source": []
  },
  {
   "cell_type": "code",
   "execution_count": null,
   "id": "ccb9158e-0828-4af3-b07e-70b1dc6cf57e",
   "metadata": {},
   "outputs": [],
   "source": []
  },
  {
   "cell_type": "markdown",
   "id": "af19d627-b42a-4e92-8c57-82a8280e2a38",
   "metadata": {},
   "source": [
    "### 15. Write a Python program to calculate the factorial of a number provided by the user using a while loop."
   ]
  },
  {
   "cell_type": "code",
   "execution_count": 8,
   "id": "be814120-2f6c-4edd-9221-4f09d3759925",
   "metadata": {},
   "outputs": [
    {
     "name": "stdin",
     "output_type": "stream",
     "text": [
      "enter a number:- 5\n"
     ]
    },
    {
     "name": "stdout",
     "output_type": "stream",
     "text": [
      "120\n"
     ]
    }
   ],
   "source": [
    "a=int(input(\"enter a number:-\"))\n",
    "factorial=1\n",
    "for i in range(1,a+1):\n",
    "    factorial*=i\n",
    "    i+=1\n",
    "print(factorial)"
   ]
  },
  {
   "cell_type": "code",
   "execution_count": null,
   "id": "01d6f254-2358-4d3e-879d-bb15682fadb4",
   "metadata": {},
   "outputs": [],
   "source": []
  },
  {
   "cell_type": "code",
   "execution_count": null,
   "id": "01920c52-f2a9-482d-aab0-38fc4e047c51",
   "metadata": {},
   "outputs": [],
   "source": []
  }
 ],
 "metadata": {
  "kernelspec": {
   "display_name": "Python 3 (ipykernel)",
   "language": "python",
   "name": "python3"
  },
  "language_info": {
   "codemirror_mode": {
    "name": "ipython",
    "version": 3
   },
   "file_extension": ".py",
   "mimetype": "text/x-python",
   "name": "python",
   "nbconvert_exporter": "python",
   "pygments_lexer": "ipython3",
   "version": "3.13.3"
  }
 },
 "nbformat": 4,
 "nbformat_minor": 5
}
